{
 "cells": [
  {
   "cell_type": "markdown",
   "metadata": {},
   "source": [
    "# Setup"
   ]
  },
  {
   "cell_type": "markdown",
   "metadata": {},
   "source": [
    "## Imports"
   ]
  },
  {
   "cell_type": "code",
   "execution_count": 1,
   "metadata": {},
   "outputs": [],
   "source": [
    "from typing import List, Callable, Tuple, Dict, NewType"
   ]
  },
  {
   "cell_type": "markdown",
   "metadata": {},
   "source": [
    "## Types"
   ]
  },
  {
   "cell_type": "code",
   "execution_count": 12,
   "metadata": {},
   "outputs": [],
   "source": [
    "Encounter = NewType('Encounter', int)\n",
    "Position = NewType('Position', Tuple[int, int])\n",
    "Reward = NewType('Reward', int)\n",
    "Move = NewType('Move', Tuple[Position, Reward])\n",
    "History = NewType('History', List[Move])"
   ]
  },
  {
   "cell_type": "markdown",
   "metadata": {},
   "source": [
    "## Constants"
   ]
  },
  {
   "cell_type": "code",
   "execution_count": 3,
   "metadata": {},
   "outputs": [],
   "source": [
    "INIT_POS = Position((0, 0))\n",
    "NUM_MOVES = 10\n",
    "\n",
    "# Encounter Types\n",
    "EMPTY = 0\n",
    "MONSTER = 1\n",
    "TREASURE = 2"
   ]
  },
  {
   "cell_type": "markdown",
   "metadata": {},
   "source": [
    "# Classes"
   ]
  },
  {
   "cell_type": "markdown",
   "metadata": {},
   "source": [
    "## Cell Class"
   ]
  },
  {
   "cell_type": "code",
   "execution_count": 4,
   "metadata": {},
   "outputs": [],
   "source": [
    "class Cell:\n",
    "    def __init__(self, p_empty: float, p_monster: float, p_treasure: float):\n",
    "        \"\"\"\n",
    "        Init with probabilities set\n",
    "        \"\"\"\n",
    "        pass\n",
    "    \n",
    "    def __call__(self) -> Reward:\n",
    "        \"\"\"\n",
    "        Returns reward\n",
    "        \"\"\"\n",
    "        pass"
   ]
  },
  {
   "cell_type": "markdown",
   "metadata": {},
   "source": [
    "## Grid Class"
   ]
  },
  {
   "cell_type": "code",
   "execution_count": 5,
   "metadata": {},
   "outputs": [],
   "source": [
    "class Grid:\n",
    "    def __init__(self, cells: List[List[Cell]]):\n",
    "        \"\"\"\n",
    "        Init with cells\n",
    "        \"\"\"\n",
    "        pass \n",
    "    \n",
    "    def valid_next_positions(self, position: Position) -> List[Position]:\n",
    "        \"\"\"\n",
    "        Returns list of valid next cells\n",
    "        \"\"\"\n",
    "        pass\n",
    "        \n",
    "    def __getitem__(self, position: Position):\n",
    "        i, j = position\n",
    "        return self.cells[i][j]"
   ]
  },
  {
   "cell_type": "markdown",
   "metadata": {},
   "source": [
    "## ModelCell and ModelGrid Classes"
   ]
  },
  {
   "cell_type": "code",
   "execution_count": 6,
   "metadata": {},
   "outputs": [],
   "source": [
    "class ModelCell(Cell):\n",
    "    def __init__(self):\n",
    "        \"\"\"\n",
    "        Init, tracking with num encounters etc\n",
    "        \"\"\"\n",
    "        pass\n",
    "    \n",
    "    @property\n",
    "    def p_empty(self):\n",
    "        pass\n",
    "\n",
    "    @property\n",
    "    def p_monster(self):\n",
    "        pass\n",
    "        \n",
    "    @property\n",
    "    def p_treasure(self):\n",
    "        pass\n",
    "        \n",
    "class ModelGrid(Grid):\n",
    "    def __init__(self, cells: List[List[ModelCell]]):\n",
    "        pass\n",
    "    \n",
    "    def update(self, position: Position, encounter: Encounter):\n",
    "        \"\"\"\n",
    "        Update cell in position with encounter e.g. monster\n",
    "        \"\"\"\n",
    "        pass"
   ]
  },
  {
   "cell_type": "markdown",
   "metadata": {},
   "source": [
    "## Game Class"
   ]
  },
  {
   "cell_type": "code",
   "execution_count": 7,
   "metadata": {},
   "outputs": [],
   "source": [
    "class Game:\n",
    "    def __init__(self, grid: Grid):\n",
    "        \"\"\"\n",
    "        Init with grid\n",
    "        \"\"\"\n",
    "        pass\n",
    "    \n",
    "    def print(self, pos: Position) -> str:\n",
    "        \"\"\"\n",
    "        Pretty print board with player's position\n",
    "        \"\"\"\n",
    "        pass"
   ]
  },
  {
   "cell_type": "markdown",
   "metadata": {},
   "source": [
    "## Player Class"
   ]
  },
  {
   "cell_type": "code",
   "execution_count": 8,
   "metadata": {},
   "outputs": [],
   "source": [
    "StrategyFunction = NewType('StrategyFunction', Callable[[Grid, Position], Cell])\n",
    "\n",
    "class Player:\n",
    "    def __init__(self, game: Game, strategy_fn: StrategyFunction, num_moves:int = NUM_MOVES):\n",
    "        \"\"\"\n",
    "        Init with strategy function, grid model, history\n",
    "        \"\"\"\n",
    "        pass\n",
    "    \n",
    "    def next_move(self):\n",
    "        \"\"\"\n",
    "        Perform next move according to strategy function\n",
    "        \"\"\"\n",
    "        pass\n",
    "    \n",
    "    def play(self) -> History:\n",
    "        \"\"\"\n",
    "        Play until remaining moves expended, then return History\n",
    "        \"\"\"\n",
    "        pass"
   ]
  },
  {
   "cell_type": "markdown",
   "metadata": {},
   "source": [
    "# Strategy Functions"
   ]
  },
  {
   "cell_type": "markdown",
   "metadata": {},
   "source": [
    "## $\\varepsilon\\text{-greedy}$"
   ]
  },
  {
   "cell_type": "code",
   "execution_count": 9,
   "metadata": {},
   "outputs": [],
   "source": [
    "def epsilon_greedy_maker(epsilon: float) -> StrategyFunction:\n",
    "    def epsilon_greedy(model: Grid, position: Position) -> Position:\n",
    "        pass"
   ]
  },
  {
   "cell_type": "markdown",
   "metadata": {},
   "source": [
    "## $\\alpha\\text{-index}$, Maximin, Maximax"
   ]
  },
  {
   "cell_type": "code",
   "execution_count": 11,
   "metadata": {},
   "outputs": [],
   "source": [
    "def alpha_index_maker(alpha: float) -> StrategyFunction:\n",
    "    def alpha_index(model: Grid, position: Position) -> Position:\n",
    "        pass\n",
    "    \n",
    "maximin: StrategyFunction = alpha_index_maker(0)\n",
    "maximax: StrategyFunction = alpha_index_maker(1)"
   ]
  }
 ],
 "metadata": {
  "kernelspec": {
   "display_name": "Python 3",
   "language": "python",
   "name": "python3"
  },
  "language_info": {
   "codemirror_mode": {
    "name": "ipython",
    "version": 3
   },
   "file_extension": ".py",
   "mimetype": "text/x-python",
   "name": "python",
   "nbconvert_exporter": "python",
   "pygments_lexer": "ipython3",
   "version": "3.6.8"
  }
 },
 "nbformat": 4,
 "nbformat_minor": 2
}
