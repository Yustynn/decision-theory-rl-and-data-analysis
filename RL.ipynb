{
 "cells": [
  {
   "cell_type": "markdown",
   "metadata": {},
   "source": [
    "# Setup"
   ]
  },
  {
   "cell_type": "markdown",
   "metadata": {},
   "source": [
    "## Imports"
   ]
  },
  {
   "cell_type": "code",
   "execution_count": 33,
   "metadata": {},
   "outputs": [],
   "source": [
    "from copy import deepcopy\n",
    "from random import choice\n",
    "from typing import \\\n",
    "    Callable, \\\n",
    "    List, \\\n",
    "    NewType, \\\n",
    "    Tuple\n",
    "from matplotlib import pyplot as plt\n",
    "\n",
    "import numpy as np"
   ]
  },
  {
   "cell_type": "markdown",
   "metadata": {},
   "source": [
    "### Temporary"
   ]
  },
  {
   "cell_type": "code",
   "execution_count": 34,
   "metadata": {},
   "outputs": [],
   "source": [
    "from collections import Counter"
   ]
  },
  {
   "cell_type": "markdown",
   "metadata": {},
   "source": [
    "## Types"
   ]
  },
  {
   "cell_type": "code",
   "execution_count": 35,
   "metadata": {},
   "outputs": [],
   "source": [
    "Encounter = NewType('Encounter', int)\n",
    "Position = NewType('Position', Tuple[int, int])\n",
    "Reward = NewType('Reward', int)\n",
    "\n",
    "IsGreedy = NewType('IsGreedy', bool)\n",
    "Move = NewType('Move', Tuple[Position, Encounter, IsGreedy])"
   ]
  },
  {
   "cell_type": "markdown",
   "metadata": {},
   "source": [
    "## Constants"
   ]
  },
  {
   "cell_type": "code",
   "execution_count": 36,
   "metadata": {},
   "outputs": [],
   "source": [
    "NUM_MOVES = 20\n",
    "NUM_PLAYTHROUGHS = 5\n",
    "\n",
    "# Encounter Types\n",
    "EMPTY = Encounter(0)\n",
    "MONSTER = Encounter(1)\n",
    "TREASURE = Encounter(2)\n",
    "\n",
    "ENCOUNTER_TO_REWARD = {\n",
    "    EMPTY: 0,\n",
    "    MONSTER: -10,\n",
    "    TREASURE: 10\n",
    "}\n",
    "\n",
    "ENCOUNTER_TO_REWARD_ORDERING = [EMPTY, MONSTER, TREASURE]\n",
    "\n",
    "STARTING_POSITION = Position((0, 0))\n",
    "\n",
    "VALUE_ITERATION_DISCOUNT = 0.9\n",
    "VALUE_ITERATION_EPSILON = 1E-1"
   ]
  },
  {
   "cell_type": "markdown",
   "metadata": {},
   "source": [
    "# Classes"
   ]
  },
  {
   "cell_type": "markdown",
   "metadata": {},
   "source": [
    "## Cell Class"
   ]
  },
  {
   "cell_type": "code",
   "execution_count": 37,
   "metadata": {},
   "outputs": [],
   "source": [
    "class Cell:\n",
    "    def __init__(self, p_empty: float, p_monster: float, p_treasure: float):\n",
    "        \"\"\"\n",
    "        Init with probabilities set\n",
    "        \"\"\"\n",
    "        self._p_empty = p_empty\n",
    "        self._p_monster = p_monster\n",
    "        self._p_treasure = p_treasure\n",
    "        \n",
    "    @property\n",
    "    def p_empty(self):\n",
    "        return self._p_empty\n",
    "        \n",
    "    @property\n",
    "    def p_monster(self):\n",
    "        return self._p_monster\n",
    "        \n",
    "    @property\n",
    "    def p_treasure(self):\n",
    "        return self._p_treasure\n",
    "    \n",
    "    @property\n",
    "    def expectation(self):\n",
    "        ps = self.p_empty, self.p_monster, self.p_treasure\n",
    "        values = [ENCOUNTER_TO_REWARD[key] for key in ENCOUNTER_TO_REWARD_ORDERING]\n",
    "        \n",
    "        return np.sum([p * val for p, val in zip(ps, values)])\n",
    "    \n",
    "    def __call__(self) -> Encounter:\n",
    "        \"\"\"\n",
    "        Returns reward\n",
    "        \"\"\"\n",
    "        x = np.random.rand()\n",
    "        \n",
    "        if x < self.p_empty:\n",
    "            return EMPTY\n",
    "        if x < self.p_monster + self.p_empty:\n",
    "            return MONSTER\n",
    "        return TREASURE\n",
    "    \n",
    "    def __str__(self) -> str:\n",
    "        p_empty = self.p_empty\n",
    "        p_monster = self.p_monster\n",
    "        p_treasure = self.p_treasure\n",
    "        \n",
    "        return f'Probability of Empty: {p_empty:.2f}\\nProbability of Monster: {p_monster:.2f}\\nProbability of Treasure: {p_treasure:.2f}'"
   ]
  },
  {
   "cell_type": "markdown",
   "metadata": {},
   "source": [
    "### Testing"
   ]
  },
  {
   "cell_type": "code",
   "execution_count": 38,
   "metadata": {},
   "outputs": [
    {
     "name": "stdout",
     "output_type": "stream",
     "text": [
      "-6.0\n"
     ]
    },
    {
     "data": {
      "text/plain": [
       "Counter({1: 70002, 2: 10013, 0: 19985})"
      ]
     },
     "execution_count": 38,
     "metadata": {},
     "output_type": "execute_result"
    }
   ],
   "source": [
    "cell = Cell(0.2, 0.7, 0.1)\n",
    "print(cell.expectation)\n",
    "\n",
    "Counter([cell() for _ in range(100000)])"
   ]
  },
  {
   "cell_type": "markdown",
   "metadata": {},
   "source": [
    "## Grid Class"
   ]
  },
  {
   "cell_type": "code",
   "execution_count": 39,
   "metadata": {},
   "outputs": [],
   "source": [
    "class Grid:\n",
    "    def __init__(self, cells: List[List[Cell]]):\n",
    "        \"\"\"\n",
    "        Init with cells\n",
    "        \"\"\"\n",
    "        \n",
    "        self.cells = cells\n",
    "        self.num_rows = len(cells)\n",
    "        self.num_cols = len(cells[0])\n",
    "    \n",
    "    def valid_next_positions(self, position: Position) -> List[Position]:\n",
    "        \"\"\"\n",
    "        Returns list of valid next cells\n",
    "        \"\"\"\n",
    "        \n",
    "        i, j = position\n",
    "        \n",
    "        valid_positions = []\n",
    "        def add_position(i, j): \n",
    "            valid_positions.append(Position((i, j)))\n",
    "        \n",
    "        if i > 0:\n",
    "            add_position(i - 1, j)\n",
    "        if i < self.num_rows - 1:\n",
    "            add_position(i + 1, j)\n",
    "        if j > 0:\n",
    "            add_position(i, j - 1)\n",
    "        if j < self.num_cols - 1:\n",
    "            add_position(i, j + 1)\n",
    "\n",
    "        return valid_positions\n",
    "    \n",
    "    def __iter__(self):\n",
    "        for i in range(self.num_rows):\n",
    "            for j in range(self.num_rows):\n",
    "                pos = Position((i, j))\n",
    "                yield pos, self[pos]\n",
    "        \n",
    "    def __getitem__(self, position: Position):\n",
    "        i, j = position\n",
    "        return self.cells[i][j]"
   ]
  },
  {
   "cell_type": "markdown",
   "metadata": {},
   "source": [
    "### Testing"
   ]
  },
  {
   "cell_type": "code",
   "execution_count": 40,
   "metadata": {},
   "outputs": [
    {
     "name": "stdout",
     "output_type": "stream",
     "text": [
      "[(0, 1), (2, 1), (1, 0), (1, 2)]\n",
      "Probability of Empty: 0.01\n",
      "Probability of Monster: 0.61\n",
      "Probability of Treasure: 0.38\n",
      "True\n"
     ]
    }
   ],
   "source": [
    "I, J = 3, 3\n",
    "\n",
    "cells = []\n",
    "for _ in range(I):\n",
    "    row = []\n",
    "    for _ in range(J):\n",
    "        x = np.random.rand()\n",
    "        y = np.random.rand() * (1 - x)\n",
    "        z = 1 - x - y\n",
    "        \n",
    "        probabilities = [x, y, z]\n",
    "        np.random.shuffle(probabilities)\n",
    "        \n",
    "        row.append(Cell(*probabilities))\n",
    "        \n",
    "    cells.append(row)\n",
    "\n",
    "grid = Grid(cells)\n",
    "\n",
    "print(grid.valid_next_positions((1,1)))\n",
    "print(grid[1, 1])\n",
    "print(grid[1, 2] == cells[1][2])"
   ]
  },
  {
   "cell_type": "markdown",
   "metadata": {},
   "source": [
    "## ModelCell and ModelGrid Classes"
   ]
  },
  {
   "cell_type": "code",
   "execution_count": 41,
   "metadata": {},
   "outputs": [],
   "source": [
    "class ModelCell(Cell):\n",
    "    def __init__(self):\n",
    "        \"\"\"\n",
    "        Init, tracking with num encounters etc\n",
    "        \"\"\"\n",
    "        self.value = 0\n",
    "        self.num_encounters = 0\n",
    "        self.encounters = {\n",
    "            EMPTY: 0,\n",
    "            MONSTER: 0,\n",
    "            TREASURE: 0\n",
    "        }\n",
    "        \n",
    "        super().__init__(0, 0, 0)\n",
    "    \n",
    "    @Cell.p_empty.getter\n",
    "    def p_empty(self):\n",
    "        if self.num_encounters == 0:\n",
    "            return 1/3\n",
    "        \n",
    "        return self.encounters[EMPTY] / self.num_encounters\n",
    "\n",
    "    @Cell.p_monster.getter\n",
    "    def p_monster(self):\n",
    "        if self.num_encounters == 0:\n",
    "            return 1/3\n",
    "        \n",
    "        return self.encounters[MONSTER] / self.num_encounters\n",
    "        \n",
    "    @Cell.p_treasure.getter\n",
    "    def p_treasure(self):\n",
    "        if self.num_encounters == 0:\n",
    "            return 1/3\n",
    "        \n",
    "        return self.encounters[TREASURE] / self.num_encounters\n",
    "    \n",
    "    def update(self, encounter: Encounter):\n",
    "        \"\"\"\n",
    "        Update encounters tracking with encounter\n",
    "        \"\"\"\n",
    "        \n",
    "        self.num_encounters += 1\n",
    "        self.encounters[encounter] += 1\n",
    "        \n",
    "class ModelGrid(Grid):\n",
    "    def __init__(self, num_rows, num_cols):\n",
    "        cells = [[ModelCell() for _ in range(num_cols)] for _ in range(num_rows)]\n",
    "        super().__init__(cells)\n",
    "    \n",
    "    def update(self, position: Position, encounter: Encounter):\n",
    "        \"\"\"\n",
    "        Update cell in position with encounter e.g. monster\n",
    "        \"\"\"\n",
    "        \n",
    "        self[position].update(encounter)\n",
    "        self.value_iteration()\n",
    "        \n",
    "    def value_iteration(self, epsilon=VALUE_ITERATION_EPSILON):\n",
    "        delta = np.inf\n",
    "        while delta > epsilon:\n",
    "            delta = 0\n",
    "            prev_model_grid = deepcopy(self)\n",
    "\n",
    "            for pos, cell in prev_model_grid:\n",
    "                prev_val = cell.value\n",
    "                valid_positions = self.valid_next_positions(pos)\n",
    "                additive_value = np.mean([prev_model_grid[pos].value for pos in valid_positions])\n",
    "                next_val = cell.expectation + VALUE_ITERATION_DISCOUNT * additive_value\n",
    "\n",
    "                delta = max(delta, abs(next_val - prev_val))\n",
    "                self[pos].value = next_val\n",
    "\n",
    "    def print(self, player_pos: Position, use_expectation: bool = True, reveal_all: bool = False) -> str:\n",
    "        \"\"\"\n",
    "        Pretty print board with player's position. Defaults to using cell expectation, else cell value\n",
    "        \"\"\"\n",
    "        strings = []\n",
    "        cells = self.cells\n",
    "        \n",
    "        \n",
    "        for i in range(self.num_rows):\n",
    "            for j in range(self.num_cols):\n",
    "                strings.append('|')\n",
    "                cell_pos = Position((i, j))\n",
    "                \n",
    "                if cell_pos == player_pos:\n",
    "                    strings.append(' P  | ')\n",
    "                elif cell_pos in grid.valid_next_positions(player_pos) or reveal_all:\n",
    "                    cell = self[cell_pos]\n",
    "                    value = cell.expectation if use_expectation else cell.value\n",
    "                    strings.append(f'{value:4.1f}| ')\n",
    "                else:\n",
    "                    strings.append('   x| ')\n",
    "            strings.append('\\n')\n",
    "                \n",
    "        print(''.join(strings))"
   ]
  },
  {
   "cell_type": "markdown",
   "metadata": {},
   "source": [
    "### Testing"
   ]
  },
  {
   "cell_type": "code",
   "execution_count": 42,
   "metadata": {},
   "outputs": [
    {
     "name": "stdout",
     "output_type": "stream",
     "text": [
      "Counter({0: 3393, 1: 3304, 2: 3303})\n",
      "Counter({0: 10000})\n",
      "Counter({1: 5071, 0: 4929})\n",
      "True\n",
      "True\n",
      "| 0.0| |   x| |   x| \n",
      "| P  | |10.0| |   x| \n",
      "| 0.0| |   x| |   x| \n",
      "\n"
     ]
    }
   ],
   "source": [
    "cell = ModelCell()\n",
    "\n",
    "print(Counter([cell() for _ in range(10000)]))\n",
    "\n",
    "cell.update(EMPTY)\n",
    "print(Counter([cell() for _ in range(10000)]))\n",
    "cell.update(np.random.choice([MONSTER, TREASURE]))\n",
    "print(Counter([cell() for _ in range(10000)]))\n",
    "\n",
    "cell.expectation\n",
    "\n",
    "model_grid = ModelGrid(3, 3)\n",
    "position = Position((1,1))\n",
    "\n",
    "print(model_grid[position].expectation == 0)\n",
    "model_grid.update(position, TREASURE)\n",
    "print(model_grid[position].expectation == 10)\n",
    "model_grid.update(Position((1,2)), MONSTER)\n",
    "\n",
    "player_position = Position((1,0))\n",
    "model_grid.print(player_position)"
   ]
  },
  {
   "cell_type": "markdown",
   "metadata": {},
   "source": [
    "## Game Class"
   ]
  },
  {
   "cell_type": "code",
   "execution_count": 43,
   "metadata": {},
   "outputs": [],
   "source": [
    "class Game:\n",
    "    def __init__(self, grid: Grid):\n",
    "        \"\"\"\n",
    "        Init with grid\n",
    "        \"\"\"\n",
    "        self.grid = grid\n",
    "        \n",
    "    def evaluate(self, pos: Position) -> Encounter:\n",
    "        return self.grid[pos]()\n",
    "    \n",
    "    def print(self, player_pos: Position) -> str:\n",
    "        \"\"\"\n",
    "        Pretty print board with player's position\n",
    "        \"\"\"\n",
    "        strings = []\n",
    "        grid, cells = self.grid, self.grid.cells\n",
    "        \n",
    "        for i in range(grid.num_rows):\n",
    "            for j in range(grid.num_cols):\n",
    "                strings.append('|')\n",
    "                cell_pos = Position((i, j))\n",
    "                \n",
    "                if cell_pos == player_pos:\n",
    "                    strings.append('P| ')\n",
    "                elif cell_pos in grid.valid_next_positions(player_pos):\n",
    "                    strings.append(' | ')\n",
    "                else:\n",
    "                    strings.append('x| ')\n",
    "            strings.append('\\n')\n",
    "                \n",
    "        print(''.join(strings))"
   ]
  },
  {
   "cell_type": "markdown",
   "metadata": {},
   "source": [
    "### Testing"
   ]
  },
  {
   "cell_type": "code",
   "execution_count": 44,
   "metadata": {},
   "outputs": [
    {
     "name": "stdout",
     "output_type": "stream",
     "text": [
      "|x| |x| | | \n",
      "|x| | | |P| \n",
      "|x| |x| | | \n",
      "\n"
     ]
    }
   ],
   "source": [
    "Game(grid).print(Position((1,2)))"
   ]
  },
  {
   "cell_type": "markdown",
   "metadata": {},
   "source": [
    "## History Class"
   ]
  },
  {
   "cell_type": "code",
   "execution_count": 101,
   "metadata": {},
   "outputs": [],
   "source": [
    "class History:\n",
    "    def __init__(self):\n",
    "        self.curr_playthrough: List[Move] = []\n",
    "        self.playthroughs: List[List[Move]] = [self.curr_playthrough]\n",
    "            \n",
    "\n",
    "    def track(self, move: Move):\n",
    "        self.curr_playthrough.append(move)\n",
    "        \n",
    "    def start_new_playthrough(self):\n",
    "        self.curr_playthrough: List[Move] = []\n",
    "        self.playthroughs.append(self.curr_playthrough)\n",
    "        \n",
    "    @property\n",
    "    def rewards(self) -> List[Reward]:\n",
    "        rewards = [\n",
    "            Reward(np.sum(\n",
    "                [ENCOUNTER_TO_REWARD[encounter] for _, encounter, _ in playthrough]\n",
    "            ))\n",
    "            for playthrough in self.playthroughs\n",
    "        ]\n",
    "        \n",
    "        return rewards\n",
    "    \n",
    "    @property\n",
    "    def reward(self) -> Reward:\n",
    "        return float(np.sum(self.rewards))"
   ]
  },
  {
   "cell_type": "markdown",
   "metadata": {},
   "source": [
    "## Player Class"
   ]
  },
  {
   "cell_type": "code",
   "execution_count": 102,
   "metadata": {},
   "outputs": [],
   "source": [
    "StrategyFunction = NewType('StrategyFunction', Callable[[Grid, Position], Cell])\n",
    "\n",
    "class Player:\n",
    "    def __init__(\n",
    "        self,\n",
    "        game: Game,\n",
    "        strategy_fn: StrategyFunction,\n",
    "        num_moves:int = NUM_MOVES,\n",
    "        num_playthroughs=NUM_PLAYTHROUGHS\n",
    "    ):\n",
    "        \"\"\"\n",
    "        Init with strategy function, model grid, history\n",
    "        \"\"\"\n",
    "        \n",
    "        self.game = game\n",
    "        self.strategy_fn = strategy_fn\n",
    "        self.remaining_moves = num_moves\n",
    "        self.remaining_playthroughs = num_playthroughs\n",
    "        self.num_moves_per_playthrough = num_moves\n",
    "        \n",
    "        self.init_pos()\n",
    "        self.history = History()\n",
    "        self.model_grid = ModelGrid(game.grid.num_rows, game.grid.num_cols)\n",
    "        \n",
    "    def start_new_playthrough(self):\n",
    "        self.remaining_playthroughs -= 1\n",
    "        self.remaining_moves = self.num_moves_per_playthrough\n",
    "        self.init_pos()\n",
    "        self.history.start_new_playthrough()\n",
    "    \n",
    "    def play_next_move(self, display=False):\n",
    "        \"\"\"\n",
    "        Perform next move according to strategy function\n",
    "        \"\"\"\n",
    "        \n",
    "        if self.remaining_moves <= 0:\n",
    "            if self.remaining_playthroughs <= 0:\n",
    "                raise ValueError('Oi! No more moves or playthroughs!')\n",
    "                \n",
    "            self.start_new_playthrough()\n",
    "        \n",
    "        next_pos, is_greedy = self.strategy_fn(self.model_grid, self.pos)\n",
    "        encounter = self.game.evaluate(next_pos)\n",
    "        \n",
    "        self.model_grid.update(next_pos, encounter)\n",
    "        \n",
    "        move = Move((next_pos, encounter, is_greedy))\n",
    "        self.history.track(move)\n",
    "        self.pos = next_pos\n",
    "        self.remaining_moves -= 1\n",
    "        \n",
    "        if display:\n",
    "            print(f'Reward: {self.history.reward}')\n",
    "            print(f'Move is greedy: {is_greedy}')\n",
    "            self.model_grid.print(self.pos, reveal_all=True)\n",
    "        \n",
    "    def init_pos(self):\n",
    "        self.pos = Position((game.grid.num_rows // 2, game.grid.num_cols // 2))\n",
    "    \n",
    "    def play_next_playthrough(self, display=False) -> History:\n",
    "        \"\"\"\n",
    "        Play until remaining moves expended, then return History\n",
    "        \"\"\"\n",
    "        if self.remaining_playthroughs <= 0:\n",
    "            raise ValueError('Oi! No more playthroughs!')\n",
    "            \n",
    "        while self.remaining_moves:\n",
    "            self.play_next_move(display)\n",
    "            \n",
    "        self.start_new_playthrough()\n",
    "        \n",
    "    def play(self, display=False):\n",
    "        if self.remaining_playthroughs <= 0:\n",
    "            raise ValueError('Oi! No more playthroughs!')\n",
    "            \n",
    "        while self.remaining_playthroughs:\n",
    "            self.play_next_playthrough(display)"
   ]
  },
  {
   "cell_type": "markdown",
   "metadata": {},
   "source": [
    "# Strategy Functions"
   ]
  },
  {
   "cell_type": "markdown",
   "metadata": {},
   "source": [
    "## $\\varepsilon\\text{-greedy}$"
   ]
  },
  {
   "cell_type": "code",
   "execution_count": 103,
   "metadata": {},
   "outputs": [],
   "source": [
    "def epsilon_greedy_maker(epsilon: float) -> StrategyFunction:\n",
    "    def epsilon_greedy(model_grid: ModelGrid, position: Position) -> Position:\n",
    "        is_greedy = np.random.rand() > epsilon\n",
    "        \n",
    "        valid_positions = model_grid.valid_next_positions(position)\n",
    "        greedy_position = max(valid_positions, key=lambda p: model_grid[p].value)\n",
    "        \n",
    "        if is_greedy:\n",
    "            return greedy_position, is_greedy\n",
    "        \n",
    "        position = greedy_position\n",
    "        while position == greedy_position:\n",
    "            position = choice(valid_positions)\n",
    "            \n",
    "        return position, is_greedy\n",
    "    \n",
    "    return epsilon_greedy"
   ]
  },
  {
   "cell_type": "markdown",
   "metadata": {},
   "source": [
    "### Testing"
   ]
  },
  {
   "cell_type": "code",
   "execution_count": 104,
   "metadata": {},
   "outputs": [
    {
     "name": "stdout",
     "output_type": "stream",
     "text": [
      "| 0.0| |   x| |   x| \n",
      "| P  | |10.0| |   x| \n",
      "| 0.0| |   x| |   x| \n",
      "\n",
      "((1, 1), True)\n"
     ]
    }
   ],
   "source": [
    "greedyhalf = epsilon_greedy_maker(0.5)\n",
    "player_pos = Position((1,0))\n",
    "I, J = 3, 3\n",
    "\n",
    "model_grid = ModelGrid(I, J)\n",
    "position = Position((1,1))\n",
    "model_grid.update(position, TREASURE)\n",
    "\n",
    "model_grid.print(player_pos)\n",
    "\n",
    "print( greedyhalf(model_grid, player_pos) )"
   ]
  },
  {
   "cell_type": "markdown",
   "metadata": {},
   "source": [
    "## $\\alpha\\text{-index}$, Maximin, Maximax"
   ]
  },
  {
   "cell_type": "code",
   "execution_count": 105,
   "metadata": {},
   "outputs": [],
   "source": [
    "def alpha_index_maker(alpha: float) -> StrategyFunction:\n",
    "    def alpha_index(grid: Grid, position: Position) -> Position:\n",
    "        def evaluate_position(position: Position) -> float:\n",
    "            cell = grid[position]\n",
    "            probabilities = cell.p_empty, cell.p_monster, cell.p_treasure\n",
    "            \n",
    "        valid_positions = grid.valid_next_positions(position)\n",
    "        \n",
    "    \n",
    "maximin: StrategyFunction = alpha_index_maker(0)\n",
    "maximax: StrategyFunction = alpha_index_maker(1)"
   ]
  },
  {
   "cell_type": "markdown",
   "metadata": {},
   "source": [
    "# Playing"
   ]
  },
  {
   "cell_type": "markdown",
   "metadata": {},
   "source": [
    "### Setup Random Game"
   ]
  },
  {
   "cell_type": "code",
   "execution_count": 106,
   "metadata": {},
   "outputs": [],
   "source": [
    "I, J = 3, 3\n",
    "\n",
    "cells = []\n",
    "for _ in range(I):\n",
    "    row = []\n",
    "    for _ in range(J):\n",
    "        x = np.random.rand()\n",
    "        y = np.random.rand() * (1 - x)\n",
    "        z = 1 - x - y\n",
    "        \n",
    "        probabilities = [x, y, z]\n",
    "        np.random.shuffle(probabilities)\n",
    "        \n",
    "        row.append(Cell(*probabilities))\n",
    "        \n",
    "    cells.append(row)\n",
    "\n",
    "grid = Grid(cells)\n",
    "game_random = Game(grid)"
   ]
  },
  {
   "cell_type": "markdown",
   "metadata": {},
   "source": [
    "## Setup Actual Game"
   ]
  },
  {
   "cell_type": "code",
   "execution_count": 107,
   "metadata": {},
   "outputs": [],
   "source": [
    "# [[[empty, monster, treasure]]]\n",
    "data = [[[0.3878219196112134,0.19759672197559452,0.4145813584131921],[0.37018831461569657,0.02794500443185699,0.6018666809524464],[0.6992744657871455,0.012917539448003224,0.2878079947648513],[0.7551581580257278,0.21883616177828769,0.026005680195984482],[0.02217520649536797,0.8593558949990283,0.11846889850560371]],[[0.6553520279778058,0.2552861011127885,0.08936187090940573],[0.283172417088295,0.17419479253578052,0.5426327903759245],[0.22945274994524922,0.7461638890739508,0.024383360980799962],[0.7609087236740122,0.17005000433317896,0.06904127199280885],[0.034922855165913536,0.49597325775947976,0.4691038870746067]],[[0.16436569193686812,0.7975663084635969,0.038067999599534996],[0.09426376430786765,0.21448465845076425,0.6912515772413681],[0.033037349287953655,0.9059765747471451,0.06098607596490124],[0.7817253912202893,0.11920133225443519,0.09907327652527553],[0.08117608091026218,0.4755560522260003,0.44326786686373754]],[[0.44068247200850585,0.4599243375472921,0.09939319044420203],[0.13747855528933162,0.04062411610008909,0.8218973286105793],[0.08262552114158672,0.5488324749946589,0.36854200386375435],[0.15994884407939858,0.5215699615878777,0.3184811943327237],[0.02503774132988279,0.8599172345994779,0.11504502407063932]],[[0.01982759030885628,0.8376737791237576,0.1424986305673861],[0.6416851854069987,0.28807426567342764,0.07024054891957365],[0.6102308845033342,0.2638689165672785,0.1259001989293873],[0.2510901849738849,0.7414758929487386,0.007433922077376476],[0.2898359244814934,0.12410037921850647,0.5860636963000001]]]\n",
    "\n",
    "cells = []\n",
    "for probabilities_row in data:\n",
    "    row = []\n",
    "    for probabilities in probabilities_row:\n",
    "        row.append(Cell(*probabilities))\n",
    "        \n",
    "    cells.append(row)\n",
    "    \n",
    "grid = Grid(cells)\n",
    "game = Game(grid)"
   ]
  },
  {
   "cell_type": "code",
   "execution_count": 108,
   "metadata": {},
   "outputs": [
    {
     "name": "stdout",
     "output_type": "stream",
     "text": [
      "[80, 0.0]\n",
      "[80, 0.0]\n",
      "[80, 60, 0.0]\n",
      "[80, 60, 0.0]\n",
      "[80, 60, 70, 0.0]\n",
      "[80, 60, 70, 0.0]\n",
      "[80, 60, 70, 110, 0.0]\n",
      "[80, 60, 70, 110, 0.0]\n",
      "[80, 60, 70, 110, 90, 0.0]\n",
      "[80, 60, 70, 110, 90, 0.0]\n"
     ]
    }
   ],
   "source": [
    "num_moves = NUM_MOVES\n",
    "num_playthroughs = NUM_PLAYTHROUGHS\n",
    "epsilon_greed = 0.1\n",
    "\n",
    "player = Player(\n",
    "    game,\n",
    "    epsilon_greedy_maker(epsilon_greed),\n",
    "    num_moves=num_moves,\n",
    "    num_playthroughs=num_playthroughs\n",
    ")\n",
    "while player.remaining_playthroughs:\n",
    "    player.play_next_playthrough()\n",
    "    print(player.history.rewards)"
   ]
  },
  {
   "cell_type": "code",
   "execution_count": 77,
   "metadata": {},
   "outputs": [
    {
     "data": {
      "text/plain": [
       "[<generator object History.rewards.<locals>.<genexpr> at 0x1136b5db0>]"
      ]
     },
     "execution_count": 77,
     "metadata": {},
     "output_type": "execute_result"
    }
   ],
   "source": [
    "player.history.rewards"
   ]
  },
  {
   "cell_type": "code",
   "execution_count": null,
   "metadata": {},
   "outputs": [],
   "source": [
    "def run(num_moves=NUM_MOVES, display=False, epsilon_greed=0.2) -> Reward:\n",
    "    player = Player(\n",
    "        game,\n",
    "        epsilon_greedy_maker(epsilon_greed),\n",
    "        num_moves=num_moves\n",
    "    )\n",
    "    \n",
    "    player.play(display=display)\n",
    "    return player.history.reward"
   ]
  },
  {
   "cell_type": "code",
   "execution_count": null,
   "metadata": {},
   "outputs": [],
   "source": [
    "num_runs = 30\n",
    "num_moves = 20\n",
    "\n",
    "runs = []\n",
    "for i in range(num_runs):\n",
    "    reward = run(num_moves)\n",
    "    print(f'Done with run {i+1}, reward: {reward}')\n",
    "    runs.append(reward)"
   ]
  },
  {
   "cell_type": "code",
   "execution_count": null,
   "metadata": {},
   "outputs": [],
   "source": [
    "plt.plot(range(len(runs)), runs)"
   ]
  },
  {
   "cell_type": "code",
   "execution_count": null,
   "metadata": {},
   "outputs": [],
   "source": [
    "run(num_moves=10, display=True, epsilon_greed=0.3)"
   ]
  },
  {
   "cell_type": "code",
   "execution_count": null,
   "metadata": {},
   "outputs": [],
   "source": [
    "num_moves = 20\n",
    "num_epochs = 40\n",
    "\n",
    "eps_rewards = []\n",
    "for epsilon_greed in np.linspace(0, 1, 11):\n",
    "    rewards = [run(num_moves=num_moves, display=False, epsilon_greed=epsilon_greed)\n",
    "               for epoch in range(num_epochs)]\n",
    "    avg_reward = sum(rewards) / num_epochs\n",
    "    eps_rewards.append(avg_reward)\n",
    "\n",
    "plt.xticks(np.arange(11), np.linspace(0, 1, 11))\n",
    "plt.plot(eps_rewards);"
   ]
  },
  {
   "cell_type": "code",
   "execution_count": null,
   "metadata": {},
   "outputs": [],
   "source": []
  }
 ],
 "metadata": {
  "kernelspec": {
   "display_name": "Python 3",
   "language": "python",
   "name": "python3"
  },
  "language_info": {
   "codemirror_mode": {
    "name": "ipython",
    "version": 3
   },
   "file_extension": ".py",
   "mimetype": "text/x-python",
   "name": "python",
   "nbconvert_exporter": "python",
   "pygments_lexer": "ipython3",
   "version": "3.6.8"
  }
 },
 "nbformat": 4,
 "nbformat_minor": 2
}
