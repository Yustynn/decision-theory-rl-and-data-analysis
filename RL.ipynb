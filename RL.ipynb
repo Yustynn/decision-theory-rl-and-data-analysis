{
 "cells": [
  {
   "cell_type": "markdown",
   "metadata": {},
   "source": [
    "# Setup"
   ]
  },
  {
   "cell_type": "markdown",
   "metadata": {},
   "source": [
    "## Imports"
   ]
  },
  {
   "cell_type": "code",
   "execution_count": 15,
   "metadata": {},
   "outputs": [],
   "source": [
    "from typing import \\\n",
    "    Callable, \\\n",
    "    List, \\\n",
    "    NewType, \\\n",
    "    Tuple\n",
    "\n",
    "\n",
    "import numpy as np"
   ]
  },
  {
   "cell_type": "markdown",
   "metadata": {},
   "source": [
    "### Temporary"
   ]
  },
  {
   "cell_type": "code",
   "execution_count": 33,
   "metadata": {},
   "outputs": [],
   "source": [
    "from collections import Counter"
   ]
  },
  {
   "cell_type": "markdown",
   "metadata": {},
   "source": [
    "## Types"
   ]
  },
  {
   "cell_type": "code",
   "execution_count": 12,
   "metadata": {},
   "outputs": [],
   "source": [
    "Encounter = NewType('Encounter', int)\n",
    "Position = NewType('Position', Tuple[int, int])\n",
    "Reward = NewType('Reward', int)\n",
    "Move = NewType('Move', Tuple[Position, Reward])\n",
    "History = NewType('History', List[Move])"
   ]
  },
  {
   "cell_type": "markdown",
   "metadata": {},
   "source": [
    "## Constants"
   ]
  },
  {
   "cell_type": "code",
   "execution_count": 16,
   "metadata": {},
   "outputs": [],
   "source": [
    "INIT_POS = Position((0, 0))\n",
    "NUM_MOVES = 10\n",
    "\n",
    "# Encounter Types\n",
    "EMPTY = 0\n",
    "MONSTER = 1\n",
    "TREASURE = 2\n",
    "\n",
    "ENCOUNTER_TO_REWARD = {\n",
    "    EMPTY: 0,\n",
    "    MONSTER: -10,\n",
    "    TREASURE: 10\n",
    "}"
   ]
  },
  {
   "cell_type": "markdown",
   "metadata": {},
   "source": [
    "# Classes"
   ]
  },
  {
   "cell_type": "markdown",
   "metadata": {},
   "source": [
    "## Cell Class"
   ]
  },
  {
   "cell_type": "code",
   "execution_count": 66,
   "metadata": {},
   "outputs": [],
   "source": [
    "class Cell:\n",
    "    def __init__(self, p_empty: float, p_monster: float, p_treasure: float):\n",
    "        \"\"\"\n",
    "        Init with probabilities set\n",
    "        \"\"\"\n",
    "        self.p_empty = p_empty\n",
    "        self.p_monster = p_monster\n",
    "        self.p_treasure = p_treasure\n",
    "    \n",
    "    def __call__(self) -> Reward:\n",
    "        \"\"\"\n",
    "        Returns reward\n",
    "        \"\"\"\n",
    "        x = np.random.rand()\n",
    "        \n",
    "        if x < self.p_empty:\n",
    "            return ENCOUNTER_TO_REWARD[EMPTY]\n",
    "        if x < self.p_monster + self.p_empty:\n",
    "            return ENCOUNTER_TO_REWARD[MONSTER]\n",
    "        return ENCOUNTER_TO_REWARD[TREASURE]\n",
    "    \n",
    "    def __str__(self) -> str:\n",
    "        \n",
    "        p_empty = self.p_empty\n",
    "        p_monster = self.p_monster\n",
    "        p_treasure = self.p_treasure\n",
    "        \n",
    "        return f'Probability of Empty: {p_empty:.2f}\\nProbability of Monster: {p_monster:.2f}\\nProbability of Treasure: {p_treasure:.2f}'"
   ]
  },
  {
   "cell_type": "markdown",
   "metadata": {},
   "source": [
    "### Testing"
   ]
  },
  {
   "cell_type": "code",
   "execution_count": 68,
   "metadata": {},
   "outputs": [
    {
     "data": {
      "text/plain": [
       "Counter({10: 10012, -10: 69970, 0: 20018})"
      ]
     },
     "execution_count": 68,
     "metadata": {},
     "output_type": "execute_result"
    }
   ],
   "source": [
    "c = Cell(0.2, 0.7, 1)\n",
    "\n",
    "Counter([c() for _ in range(100000)])"
   ]
  },
  {
   "cell_type": "markdown",
   "metadata": {},
   "source": [
    "## Grid Class"
   ]
  },
  {
   "cell_type": "code",
   "execution_count": 69,
   "metadata": {},
   "outputs": [],
   "source": [
    "class Grid:\n",
    "    def __init__(self, cells: List[List[Cell]]):\n",
    "        \"\"\"\n",
    "        Init with cells\n",
    "        \"\"\"\n",
    "        \n",
    "        self.cells = cells\n",
    "        self.num_rows = len(cells)\n",
    "        self.num_cols = len(cells[0])\n",
    "    \n",
    "    def valid_next_positions(self, position: Position) -> List[Position]:\n",
    "        \"\"\"\n",
    "        Returns list of valid next cells\n",
    "        \"\"\"\n",
    "        \n",
    "        i, j = position\n",
    "        \n",
    "        valid_is = [i]\n",
    "        valid_js = [j]\n",
    "        \n",
    "        if i > 0:\n",
    "            valid_is.append(i - 1)\n",
    "        if i < self.num_rows - 1:\n",
    "            valid_is.append(i + 1)\n",
    "        if j > 0:\n",
    "            valid_js.append(j - 1)\n",
    "        if j < self.num_cols - 1:\n",
    "            valid_js.append(j + 1)\n",
    "            \n",
    "        return [Position((i, j)) for i in valid_is for j in valid_js if Position((i, j)) != position]\n",
    "        \n",
    "    def __getitem__(self, position: Position):\n",
    "        i, j = position\n",
    "        return self.cells[i][j]"
   ]
  },
  {
   "cell_type": "markdown",
   "metadata": {},
   "source": [
    "### Testing"
   ]
  },
  {
   "cell_type": "code",
   "execution_count": 78,
   "metadata": {},
   "outputs": [
    {
     "name": "stdout",
     "output_type": "stream",
     "text": [
      "[(0, 1), (1, 0), (1, 1)]\n",
      "Probability of Empty: 0.06\n",
      "Probability of Monster: 0.14\n",
      "Probability of Treasure: 0.80\n",
      "Probability of Empty: 0.06\n",
      "Probability of Monster: 0.14\n",
      "Probability of Treasure: 0.80\n"
     ]
    }
   ],
   "source": [
    "I, J = 3, 3\n",
    "\n",
    "cells = []\n",
    "for _ in range(I):\n",
    "    row = []\n",
    "    for _ in range(J):\n",
    "        x = np.random.rand()\n",
    "        y = np.random.rand() * (1 - x)\n",
    "        z = 1 - x - y\n",
    "        \n",
    "        probabilities = [x, y, z]\n",
    "        np.random.shuffle(probabilities)\n",
    "        \n",
    "        row.append(Cell(*probabilities))\n",
    "        \n",
    "    cells.append(row)\n",
    "\n",
    "grid = Grid(cells)\n",
    "\n",
    "print(grid.valid_next_positions((0,0)))\n",
    "print(grid[1, 1])\n",
    "print(cells[1][1])"
   ]
  },
  {
   "cell_type": "markdown",
   "metadata": {},
   "source": [
    "## ModelCell and ModelGrid Classes"
   ]
  },
  {
   "cell_type": "code",
   "execution_count": 6,
   "metadata": {},
   "outputs": [],
   "source": [
    "class ModelCell(Cell):\n",
    "    def __init__(self):\n",
    "        \"\"\"\n",
    "        Init, tracking with num encounters etc\n",
    "        \"\"\"\n",
    "        pass\n",
    "    \n",
    "    @property\n",
    "    def p_empty(self):\n",
    "        pass\n",
    "\n",
    "    @property\n",
    "    def p_monster(self):\n",
    "        pass\n",
    "        \n",
    "    @property\n",
    "    def p_treasure(self):\n",
    "        pass\n",
    "        \n",
    "class ModelGrid(Grid):\n",
    "    def __init__(self, cells: List[List[ModelCell]]):\n",
    "        pass\n",
    "    \n",
    "    def update(self, position: Position, encounter: Encounter):\n",
    "        \"\"\"\n",
    "        Update cell in position with encounter e.g. monster\n",
    "        \"\"\"\n",
    "        pass"
   ]
  },
  {
   "cell_type": "markdown",
   "metadata": {},
   "source": [
    "## Game Class"
   ]
  },
  {
   "cell_type": "code",
   "execution_count": 7,
   "metadata": {},
   "outputs": [],
   "source": [
    "class Game:\n",
    "    def __init__(self, grid: Grid):\n",
    "        \"\"\"\n",
    "        Init with grid\n",
    "        \"\"\"\n",
    "        pass\n",
    "    \n",
    "    def print(self, pos: Position) -> str:\n",
    "        \"\"\"\n",
    "        Pretty print board with player's position\n",
    "        \"\"\"\n",
    "        pass"
   ]
  },
  {
   "cell_type": "markdown",
   "metadata": {},
   "source": [
    "## Player Class"
   ]
  },
  {
   "cell_type": "code",
   "execution_count": 8,
   "metadata": {},
   "outputs": [],
   "source": [
    "StrategyFunction = NewType('StrategyFunction', Callable[[Grid, Position], Cell])\n",
    "\n",
    "class Player:\n",
    "    def __init__(self, game: Game, strategy_fn: StrategyFunction, num_moves:int = NUM_MOVES):\n",
    "        \"\"\"\n",
    "        Init with strategy function, grid model, history\n",
    "        \"\"\"\n",
    "        pass\n",
    "    \n",
    "    def next_move(self):\n",
    "        \"\"\"\n",
    "        Perform next move according to strategy function\n",
    "        \"\"\"\n",
    "        pass\n",
    "    \n",
    "    def play(self) -> History:\n",
    "        \"\"\"\n",
    "        Play until remaining moves expended, then return History\n",
    "        \"\"\"\n",
    "        pass"
   ]
  },
  {
   "cell_type": "markdown",
   "metadata": {},
   "source": [
    "# Strategy Functions"
   ]
  },
  {
   "cell_type": "markdown",
   "metadata": {},
   "source": [
    "## $\\varepsilon\\text{-greedy}$"
   ]
  },
  {
   "cell_type": "code",
   "execution_count": 9,
   "metadata": {},
   "outputs": [],
   "source": [
    "def epsilon_greedy_maker(epsilon: float) -> StrategyFunction:\n",
    "    def epsilon_greedy(model: Grid, position: Position) -> Position:\n",
    "        pass"
   ]
  },
  {
   "cell_type": "markdown",
   "metadata": {},
   "source": [
    "## $\\alpha\\text{-index}$, Maximin, Maximax"
   ]
  },
  {
   "cell_type": "code",
   "execution_count": 11,
   "metadata": {},
   "outputs": [],
   "source": [
    "def alpha_index_maker(alpha: float) -> StrategyFunction:\n",
    "    def alpha_index(model: Grid, position: Position) -> Position:\n",
    "        pass\n",
    "    \n",
    "maximin: StrategyFunction = alpha_index_maker(0)\n",
    "maximax: StrategyFunction = alpha_index_maker(1)"
   ]
  }
 ],
 "metadata": {
  "kernelspec": {
   "display_name": "Python 3",
   "language": "python",
   "name": "python3"
  },
  "language_info": {
   "codemirror_mode": {
    "name": "ipython",
    "version": 3
   },
   "file_extension": ".py",
   "mimetype": "text/x-python",
   "name": "python",
   "nbconvert_exporter": "python",
   "pygments_lexer": "ipython3",
   "version": "3.6.8"
  }
 },
 "nbformat": 4,
 "nbformat_minor": 2
}
